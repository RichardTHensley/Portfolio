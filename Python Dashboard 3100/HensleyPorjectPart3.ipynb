{
 "cells": [
  {
   "cell_type": "markdown",
   "metadata": {},
   "source": [
    "### INTRODUCTION\n",
    "\n",
    "The state dataframe is based off of two CSV files that contain variables indexed on state names. The independent variable is college attendance rate. The quantatative variables are GDP, Number of households, and Total land/water area. The two qualitative variables are US region and Republican/Democrat.\n",
    "\n",
    "Citations for data:\n",
    "\n",
    "Duffin, E. (2022, October 5). Number of households in the United States in 2021, by state. Statistica. Retrieved January 20, 2023, from https://www-statista-com.du.idm.oclc.org/statistics/242258/number-of-us-households-by-state/\n",
    "\n",
    "US Census Bureau. (September 30, 2011). Total land and water area of the United States by state and territory [Graph]. In Statista. Retrieved February 03, 2023, from https://www-statista-com.du.idm.oclc.org/statistics/203923/united-states-land-area-by-state/\n",
    "\n",
    "BEA. (March 31, 2022). Gross Domestic Product (GDP) of the United States in 2021, by state (in billion current U.S. dollars) [Graph]. In Statista. Retrieved February 03, 2023, from https://www-statista-com.du.idm.oclc.org/statistics/248023/us-gross-domestic-product-gdp-by-state/\n",
    "\n",
    "NCES. (May 31, 2012). Share of 20 to 24 year olds enrolled in college or other higher education in the United States in 2010, by state [Graph]. In Statista. Retrieved February 03, 2023, from https://www-statista-com.du.idm.oclc.org/statistics/236111/higher-education-enrollment-rates-by-us-state/\n",
    "\n",
    "Gallup. (February 22, 2019). Identification with political parties in the United States in 2018, by state [Graph]. In Statista. Retrieved February 03, 2023, from https://www-statista-com.du.idm.oclc.org/statistics/1080003/political-party-identification-state-us/\n",
    "\n",
    "\n",
    "Read in Code - pandas"
   ]
  },
  {
   "cell_type": "code",
   "execution_count": 1,
   "metadata": {},
   "outputs": [
    {
     "data": {
      "text/html": [
       "<div>\n",
       "<style scoped>\n",
       "    .dataframe tbody tr th:only-of-type {\n",
       "        vertical-align: middle;\n",
       "    }\n",
       "\n",
       "    .dataframe tbody tr th {\n",
       "        vertical-align: top;\n",
       "    }\n",
       "\n",
       "    .dataframe thead th {\n",
       "        text-align: right;\n",
       "    }\n",
       "</style>\n",
       "<table border=\"1\" class=\"dataframe\">\n",
       "  <thead>\n",
       "    <tr style=\"text-align: right;\">\n",
       "      <th></th>\n",
       "      <th>State</th>\n",
       "      <th>College_Attendance_in_%</th>\n",
       "      <th>GDP</th>\n",
       "      <th>US_Region</th>\n",
       "      <th>Number_of_Households</th>\n",
       "      <th>Total_Land/Water</th>\n",
       "      <th>Republican/Democrat</th>\n",
       "    </tr>\n",
       "  </thead>\n",
       "  <tbody>\n",
       "    <tr>\n",
       "      <th>46</th>\n",
       "      <td>Virginia</td>\n",
       "      <td>48.3</td>\n",
       "      <td>591.85</td>\n",
       "      <td>SOUTH</td>\n",
       "      <td>3331.46</td>\n",
       "      <td>8723</td>\n",
       "      <td>D</td>\n",
       "    </tr>\n",
       "    <tr>\n",
       "      <th>47</th>\n",
       "      <td>Washington</td>\n",
       "      <td>40.6</td>\n",
       "      <td>667.58</td>\n",
       "      <td>WEST</td>\n",
       "      <td>3022.26</td>\n",
       "      <td>5544</td>\n",
       "      <td>R</td>\n",
       "    </tr>\n",
       "    <tr>\n",
       "      <th>48</th>\n",
       "      <td>West Virginia</td>\n",
       "      <td>37.2</td>\n",
       "      <td>87.39</td>\n",
       "      <td>SOUTH</td>\n",
       "      <td>722.20</td>\n",
       "      <td>5325</td>\n",
       "      <td>D</td>\n",
       "    </tr>\n",
       "    <tr>\n",
       "      <th>49</th>\n",
       "      <td>Wisconsin</td>\n",
       "      <td>41.1</td>\n",
       "      <td>365.93</td>\n",
       "      <td>MIDWEST</td>\n",
       "      <td>2449.97</td>\n",
       "      <td>2489</td>\n",
       "      <td>R</td>\n",
       "    </tr>\n",
       "    <tr>\n",
       "      <th>50</th>\n",
       "      <td>Wyoming</td>\n",
       "      <td>44.2</td>\n",
       "      <td>41.62</td>\n",
       "      <td>WEST</td>\n",
       "      <td>242.76</td>\n",
       "      <td>1975</td>\n",
       "      <td>R</td>\n",
       "    </tr>\n",
       "  </tbody>\n",
       "</table>\n",
       "</div>"
      ],
      "text/plain": [
       "            State  College_Attendance_in_%     GDP US_Region  \\\n",
       "46       Virginia                     48.3  591.85     SOUTH   \n",
       "47     Washington                     40.6  667.58      WEST   \n",
       "48  West Virginia                     37.2   87.39     SOUTH   \n",
       "49      Wisconsin                     41.1  365.93   MIDWEST   \n",
       "50        Wyoming                     44.2   41.62      WEST   \n",
       "\n",
       "    Number_of_Households  Total_Land/Water Republican/Democrat  \n",
       "46               3331.46              8723                   D  \n",
       "47               3022.26              5544                   R  \n",
       "48                722.20              5325                   D  \n",
       "49               2449.97              2489                   R  \n",
       "50                242.76              1975                   R  "
      ]
     },
     "execution_count": 1,
     "metadata": {},
     "output_type": "execute_result"
    }
   ],
   "source": [
    "#import packagees\n",
    "import pandas as pd\n",
    "import numpy as np \n",
    "from scipy import stats\n",
    "import statsmodels.api as sm\n",
    "import seaborn as sns\n",
    "import matplotlib.pyplot as plt\n",
    "from statsmodels.formula.api import ols\n",
    "\n",
    "#read in csv files into two different Dataframes\n",
    "df1 = pd.read_csv('HensleyProjectData1.csv')\n",
    "df2 = pd.read_csv('HensleyProjectData2.csv')\n",
    "\n",
    "#Merge the dataframes into a single dataframe\n",
    "dfState = pd.merge(df1, df2, on='State')\n",
    "\n",
    "dfState.tail()"
   ]
  },
  {
   "cell_type": "code",
   "execution_count": 2,
   "metadata": {
    "jupyter": {
     "source_hidden": true
    }
   },
   "outputs": [],
   "source": [
    "#Function to build histogram charts based on histIn input value\n",
    "#Coded by richard hensley\n",
    "#3/8/22\n",
    "def HistBuilder(histIn):\n",
    "    #build histogram based off college attendance rates\n",
    "    if histIn == 1:\n",
    "        dfState[\"College_Attendance_in_%\"].hist()\n",
    "        plt.title(\"Distribution of College Attendance Rates\")\n",
    "        plt.show()\n",
    "    #build histogram based off GDP\n",
    "    if histIn == 2:\n",
    "        dfState[\"GDP\"].hist()\n",
    "        plt.title(\"Distribution of GDP\")\n",
    "        plt.show()\n",
    "    #build histogram based off Number of Households\n",
    "    if histIn == 3: \n",
    "        dfState[\"Number_of_Households\"].hist()\n",
    "        plt.title(\"Distribution of Number of Households\")\n",
    "        plt.show()\n",
    "    #build histogram based off Total Land/Water\n",
    "    if histIn == 4: \n",
    "        dfState[\"Total_Land/Water\"].hist()\n",
    "        plt.title(\"Distribution of Total Land/Water\")\n",
    "        plt.show()"
   ]
  },
  {
   "cell_type": "code",
   "execution_count": 3,
   "metadata": {
    "jupyter": {
     "source_hidden": true
    }
   },
   "outputs": [],
   "source": [
    "#Function to run descriptive statistics based on the descIn input value\n",
    "#Coded by richard hensley\n",
    "#3/8/22\n",
    "def DescStats(descIn):\n",
    "    #Descriptive statistics of College Attendance rate\n",
    "    if descIn == 1:\n",
    "        print('Descriptive Statistics for College Attendance in %')\n",
    "        print(dfState['College_Attendance_in_%'].describe())\n",
    "        print('\\n')\n",
    "    #Descriptive statistics of GDP\n",
    "    if descIn == 2:\n",
    "        print('Descriptive Statistics for GDP')\n",
    "        print(dfState['GDP'].describe())\n",
    "        print('\\n')\n",
    "    #Descriptive statistics of Number of Households\n",
    "    if descIn == 3:\n",
    "        print('Descriptive Statistics for Number of Households')\n",
    "        print(dfState['Number_of_Households'].describe())\n",
    "        print('\\n')\n",
    "    #Descriptive statistics of Total Land/Water\n",
    "    if descIn == 4:\n",
    "        print('Descriptive Statistics for Total Land/Water')\n",
    "        print(dfState[\"Total_Land/Water\"].describe())\n",
    "        print('\\n')\n",
    "    #Value counts of Republican/Democrat\n",
    "    if descIn == 5:\n",
    "        print('Value Counts for Reublican/Democrat')\n",
    "        print(dfState['Republican/Democrat'].value_counts())\n",
    "        print('\\n')\n",
    "    #Value counts of US region\n",
    "    if descIn == 6:\n",
    "        print('Value Counts for US Region')\n",
    "        print(dfState['US_Region'].value_counts())\n",
    "        print('\\n')"
   ]
  },
  {
   "cell_type": "code",
   "execution_count": 4,
   "metadata": {
    "jupyter": {
     "source_hidden": true
    }
   },
   "outputs": [],
   "source": [
    "# Function to run multiple regression models based off dependant variables (regIn)\n",
    "# Coded by Richard Hensley\n",
    "# 3/8/22\n",
    "\n",
    "def RegBuilder(regIn):\n",
    "    #run regression to predict college attendance off GDP and Number of Households\n",
    "    if regIn == 1:\n",
    "        x = dfState['College_Attendance_in_%']\n",
    "        y = dfState[['GDP','Number_of_Households']]\n",
    "        y = sm.add_constant(y)\n",
    "        model = sm.OLS(x,y).fit()\n",
    "        print(model.summary())\n",
    "    #run regression to predict College Attendance off Number of Households and Total Land/Water\n",
    "    if regIn == 2:\n",
    "        x = dfState['College_Attendance_in_%']\n",
    "        y = dfState[['Number_of_Households','Total_Land/Water']]\n",
    "        y = sm.add_constant(y)\n",
    "        model = sm.OLS(x,y).fit()\n",
    "        print(model.summary())\n",
    "    #run regression to predict college attendance off GDP and Total Land/Water\n",
    "    if regIn == 3:\n",
    "        x = dfState['College_Attendance_in_%']\n",
    "        y = dfState[['GDP','Total_Land/Water']]\n",
    "        y = sm.add_constant(y)\n",
    "        model = sm.OLS(x,y).fit()\n",
    "        print(model.summary())"
   ]
  },
  {
   "cell_type": "code",
   "execution_count": 5,
   "metadata": {
    "jupyter": {
     "source_hidden": true
    }
   },
   "outputs": [],
   "source": [
    "# Function to build multiple scatterplots based on scatIn input value\n",
    "# Coded by Richard Hensley\n",
    "# 3/8/22\n",
    "def ScatterMaker(scatIn):\n",
    "    #Build scatterplot of College Attendance and GDP\n",
    "    if scatIn == 1:\n",
    "        CaGDPCorr=np.corrcoef(dfState['College_Attendance_in_%'],dfState['GDP'])[0][1]\n",
    "        plt.scatter(dfState['College_Attendance_in_%'],dfState['GDP'])\n",
    "        plt.title(f\"Correlation of College Attendance and GDP:{CaGDPCorr:.2f}\")\n",
    "        plt.xlabel('College Attendance rate')\n",
    "        plt.ylabel('GDP')\n",
    "        plt.show()\n",
    "        print('\\n')\n",
    "    #Build scatterplot of College Attendance and Number of Households\n",
    "    if scatIn == 2:\n",
    "        CaHHCorr=np.corrcoef(dfState['College_Attendance_in_%'],dfState['Number_of_Households'])[0][1]\n",
    "        plt.scatter(dfState['College_Attendance_in_%'],dfState['Number_of_Households'])\n",
    "        plt.title(f\"Correlation of College Attendance and Number of Households:{CaHHCorr:.2f}\")\n",
    "        plt.xlabel('College Attendance rate')\n",
    "        plt.ylabel('Number of Households')\n",
    "        plt.show()\n",
    "        print('\\n')\n",
    "    #Build scatterplot of College Attendance and Total Land/Water\n",
    "    if scatIn == 3:\n",
    "        CaTLWCorr=np.corrcoef(dfState['College_Attendance_in_%'],dfState['Total_Land/Water'])[0][1]\n",
    "        plt.scatter(dfState['College_Attendance_in_%'],dfState['Total_Land/Water'])\n",
    "        plt.title(f\"Correlation of College Attendance and Total Land/Water:{CaTLWCorr:.2f}\")\n",
    "        plt.xlabel('College Attendance rate')\n",
    "        plt.ylabel('Total Land/Water')\n",
    "        plt.show()\n",
    "        print('\\n')\n",
    "    #Build scatterplot of GDP and Number of Households\n",
    "    if scatIn == 4:\n",
    "        GDPHousesCorr=np.corrcoef(dfState['GDP'],dfState['Number_of_Households'])[0][1]\n",
    "        plt.scatter(dfState['GDP'],dfState['Number_of_Households'])\n",
    "        plt.title(f\"Correlation of GDP and Number of Households:{GDPHousesCorr:.2f}\")\n",
    "        plt.xlabel('GDP')\n",
    "        plt.ylabel('Number of Households')\n",
    "        plt.show()\n",
    "        print('\\n')\n",
    "    #Build scatterplot of GDP and Total Land/Water\n",
    "    if scatIn == 5: \n",
    "        GDPTLWCorr=np.corrcoef(dfState['GDP'],dfState['Total_Land/Water'])[0][1]\n",
    "        plt.scatter(dfState['GDP'],dfState['Total_Land/Water'])\n",
    "        plt.title(f\"Correlation of GDP and Total Land/Water:{GDPTLWCorr:.2f}\")\n",
    "        plt.xlabel('GDP')\n",
    "        plt.ylabel('Total Land/Water')\n",
    "        plt.show()\n",
    "        print('\\n')\n",
    "    #Build scatterplot of Number of Households and Total Land/Water\n",
    "    if scatIn == 6:\n",
    "        HHTLWCorr=np.corrcoef(dfState['Number_of_Households'],dfState['Total_Land/Water'])[0][1]\n",
    "        plt.scatter(dfState['Number_of_Households'],dfState['Total_Land/Water'])\n",
    "        plt.title(f\"Correlation of Number of Households and Total Land/Water:{HHTLWCorr:.2f}\")\n",
    "        plt.xlabel('Number of Households')\n",
    "        plt.ylabel('Total Land/Water')\n",
    "        plt.show()\n",
    "        print('\\n')"
   ]
  },
  {
   "cell_type": "markdown",
   "metadata": {},
   "source": [
    "### REPORT"
   ]
  },
  {
   "cell_type": "markdown",
   "metadata": {},
   "source": [
    "## Reseach Q1\n",
    "#1. Can you predict total state college attendance percentage bassed off of state GDP and total land/water area?"
   ]
  },
  {
   "cell_type": "code",
   "execution_count": 6,
   "metadata": {},
   "outputs": [
    {
     "name": "stdout",
     "output_type": "stream",
     "text": [
      "                               OLS Regression Results                              \n",
      "===================================================================================\n",
      "Dep. Variable:     College_Attendance_in_%   R-squared:                       0.066\n",
      "Model:                                 OLS   Adj. R-squared:                  0.027\n",
      "Method:                      Least Squares   F-statistic:                     1.701\n",
      "Date:                     Sun, 12 Mar 2023   Prob (F-statistic):              0.193\n",
      "Time:                             12:42:43   Log-Likelihood:                -146.68\n",
      "No. Observations:                       51   AIC:                             299.4\n",
      "Df Residuals:                           48   BIC:                             305.2\n",
      "Df Model:                                2                                         \n",
      "Covariance Type:                 nonrobust                                         \n",
      "====================================================================================\n",
      "                       coef    std err          t      P>|t|      [0.025      0.975]\n",
      "------------------------------------------------------------------------------------\n",
      "const               41.9504      0.926     45.285      0.000      40.088      43.813\n",
      "GDP                  0.0013      0.001      1.219      0.229      -0.001       0.003\n",
      "Total_Land/Water -8.772e-06   6.47e-06     -1.356      0.181   -2.18e-05    4.23e-06\n",
      "==============================================================================\n",
      "Omnibus:                        1.029   Durbin-Watson:                   1.723\n",
      "Prob(Omnibus):                  0.598   Jarque-Bera (JB):                0.794\n",
      "Skew:                          -0.304   Prob(JB):                        0.672\n",
      "Kurtosis:                       2.928   Cond. No.                     1.81e+05\n",
      "==============================================================================\n",
      "\n",
      "Warnings:\n",
      "[1] Standard Errors assume that the covariance matrix of the errors is correctly specified.\n",
      "[2] The condition number is large, 1.81e+05. This might indicate that there are\n",
      "strong multicollinearity or other numerical problems.\n"
     ]
    }
   ],
   "source": [
    "#Use RegBuilder Function to run regression of GDP and Total Land/Water\n",
    "RegBuilder(3)"
   ]
  },
  {
   "cell_type": "markdown",
   "metadata": {},
   "source": [
    "The Regression model using our dependant variables GDP and Total Land/Water Area to predict Total College Attendance rate is not a good fitting model. \n",
    "    \n",
    "    The adjusted R-squared value is extremely low with only 0.027 of our dependant variables. By checking for multicolinearity, we can see that GDP and Number of Households are heavily correlated with a correlation rate of .97 which tells us we do not need to use both of those variables in the same model. \n",
    "    \n",
    "    Through testing numerous other models, with similar low Adj. R-Squared values from all other permutations of our model to predict college attendance rate.\n",
    "    \n",
    "    Though this model would be useful in education related business operation, this model does not fit our independant variable, and needs different data tested"
   ]
  },
  {
   "cell_type": "markdown",
   "metadata": {},
   "source": [
    "## Reseach Q2\n",
    "#2. Is the mean college attendance in the West greater than other regions? "
   ]
  },
  {
   "cell_type": "code",
   "execution_count": 7,
   "metadata": {},
   "outputs": [
    {
     "name": "stdout",
     "output_type": "stream",
     "text": [
      "The groups are SOUTH and WEST and NORTHEAST and MIDWEST\n",
      "This is a test of equal means with Ho: The means of all groups are equal/Ha: At least one group mean is different\n",
      "The F test statistic is 12.416 and the p-value is 0.0\n",
      "Conclusion: Reject Ho: At least one group mean is different\n"
     ]
    },
    {
     "data": {
      "image/png": "[encoded data removed]",
      "text/plain": [
       "<Figure size 432x288 with 1 Axes>"
      ]
     },
     "metadata": {
      "needs_background": "light"
     },
     "output_type": "display_data"
    },
    {
     "name": "stdout",
     "output_type": "stream",
     "text": [
      "Ho: The group means are equal\n",
      "    Multiple Comparison of Means - Tukey HSD, FWER=0.05    \n",
      "===========================================================\n",
      "  group1    group2  meandiff p-adj   lower    upper  reject\n",
      "-----------------------------------------------------------\n",
      "  MIDWEST NORTHEAST   1.7889 0.6305  -2.2714  5.8492  False\n",
      "  MIDWEST     SOUTH  -4.5333 0.0052  -7.9649 -1.1018   True\n",
      "  MIDWEST      WEST  -5.8083  0.001  -9.5674 -2.0492   True\n",
      "NORTHEAST     SOUTH  -6.3222  0.001 -10.0813 -2.5631   True\n",
      "NORTHEAST      WEST  -7.5972  0.001 -11.6575 -3.5369   True\n",
      "    SOUTH      WEST   -1.275 0.7323  -4.7066  2.1566  False\n",
      "-----------------------------------------------------------\n"
     ]
    },
    {
     "data": {
      "image/png": "[encoded data removed]",
      "text/plain": [
       "<Figure size 720x432 with 1 Axes>"
      ]
     },
     "metadata": {
      "needs_background": "light"
     },
     "output_type": "display_data"
    }
   ],
   "source": [
    "#import Stattests and run an ANOVA test on mean college attendance based off of US Region\n",
    "import StatTests\n",
    "StatTests.MeansTest(dfState,'US_Region','College_Attendance_in_%')\n",
    "\n",
    "#HO: All mean are equal\n",
    "#Ha: At least one group mean is different"
   ]
  },
  {
   "cell_type": "markdown",
   "metadata": {},
   "source": [
    "    The mean college attendance percent for the West = 38.72; which is the lowest for any region.\n",
    "    The Northeast has the highest college attendance rate (46.32), with +7.6 points difference to the West.\n",
    "    \n",
    "    Though we can see a difference in College Attendance rate based off of US Region, they are all relatively close to each other. The West has the lowest minimum (Nevanda @ 29.9%) , as well as the lowest maximum attendance rate (California @ 44.5). The Northeast has the lowest count of states while also having the highest average (46.32%), the highest minimum (Maine @ 42.0%), and the highest maximum (Massachusetts @ 51.2%) which is impressive.\n",
    "    \n",
    "    The results of the ANOVA test show that there is statistical difference between at least one of the variables provided. We reject the null hypothesis, given the p-value of 4.187e-6 which is lower than out alpha valaue (0.05)."
   ]
  },
  {
   "cell_type": "markdown",
   "metadata": {},
   "source": [
    "## Reseach Q3\n",
    "#3. Is there a difference in College Attendance rates based on Political Alignment?"
   ]
  },
  {
   "cell_type": "code",
   "execution_count": 8,
   "metadata": {},
   "outputs": [
    {
     "name": "stdout",
     "output_type": "stream",
     "text": [
      "The groups are R and D\n",
      "\n",
      "This is a test of equal variances with Ho: The variances are equal\n",
      "The t test statistic is 0.108 and the p-value is 0.7429\n",
      "Conclusion: Fail to Reject Ho: We can't reject that the variances are the same\n",
      "\n",
      "This is a Two-Sample t test (assuming equal variances) of equal means with Ho: The group means are equal\n",
      "The t test statistic is -0.796 and the p-value is 0.43\n",
      "Conclusion: Fail to Reject Ho: We can't reject that the means are the same\n"
     ]
    },
    {
     "data": {
      "image/png": "[encoded data removed]",
      "text/plain": [
       "<Figure size 432x288 with 1 Axes>"
      ]
     },
     "metadata": {
      "needs_background": "light"
     },
     "output_type": "display_data"
    }
   ],
   "source": [
    "# Run two-sample T-test on the means of Democratic and Rebulican state College Attendance rate\n",
    "StatTests.MeansTest(dfState,'Republican/Democrat','College_Attendance_in_%')\n",
    "\n",
    "#HO: The variances are equal\n",
    "#Ha: The variances are not equal"
   ]
  },
  {
   "cell_type": "markdown",
   "metadata": {},
   "source": [
    "    Based on our t-static and p-value we cannot reject the null hypothesis that there is no statistic difference in College Attendance Rate based of if the state was Democratic or Republican. \n",
    "\n",
    "    The T-Statistic (0.796) tells us that there is very little difference between college attendance rates is relatively small between these groups and can be considered not significant. The P-value (0.43) tells us that the probability of obtaining a difference in means is as large or larger than what was observed. \n",
    "\n",
    "    We can conclude that there is no statistical differance in mean college attendance rate based of of Republican or Democratic political leaning. "
   ]
  },
  {
   "cell_type": "markdown",
   "metadata": {},
   "source": [
    "## MENU"
   ]
  },
  {
   "cell_type": "code",
   "execution_count": null,
   "metadata": {},
   "outputs": [
    {
     "name": "stdout",
     "output_type": "stream",
     "text": [
      "Menu:\n",
      "1. Crosstabulation\n",
      "2. Correlation Matrix\n",
      "3. ANOVA Test\n",
      "4. Two Sample T-Test\n",
      "5. Regression\n",
      "6. Histogram\n",
      "7. Descriptive Statistics\n",
      "8. Scatterplot \n",
      "9. Read to Excel file\n",
      "10. Quit\n",
      "\n",
      "\n"
     ]
    }
   ],
   "source": [
    "# Menu to run multiple different statistical anaylisis on the State Dataset\n",
    "# Menu will run until quit option is selected in each menu and submenu\n",
    "\n",
    "#Initialize user input @ 0 \n",
    "FirstIn = 0\n",
    "\n",
    "#Menu runs within a while look till FirstIn == 9 \n",
    "while FirstIn != 10:\n",
    "    #Print menu options\n",
    "    print(\"Menu:\")\n",
    "    print(\"1. Crosstabulation\")\n",
    "    print(\"2. Correlation Matrix\")\n",
    "    print(\"3. ANOVA Test\")\n",
    "    print(\"4. Two Sample T-Test\")\n",
    "    print(\"5. Regression\")\n",
    "    print(\"6. Histogram\")\n",
    "    print(\"7. Descriptive Statistics\")\n",
    "    print(\"8. Scatterplot \")\n",
    "    print(\"9. Read to Excel file\")\n",
    "    print(\"10. Quit\")\n",
    "    print(\"\\n\")\n",
    "    #Input box for FirstInput, input will decide which menu option will run\n",
    "    FirstIn = input(\"please enter a number between 1 and 10:\")\n",
    "  #  if FirstIn != ('1','2','3','4','5','6','7','8','9'):\n",
    "   #     FirstIn = input('please enter a number between 1 and 9:')\n",
    "    FirstIn = int(FirstIn)\n",
    "    #If input = 1: run cross tabulation of Qualitative variables\n",
    "    if FirstIn == 1:\n",
    "        cross_tab = pd.crosstab(dfState['US_Region'], dfState['Republican/Democrat'])\n",
    "        print(\"\\n\")\n",
    "        print(cross_tab)\n",
    "        print(\"\\n\")\n",
    "    #If input = 2 run correlation matrix on Quantative variables\n",
    "    if FirstIn == 2:\n",
    "        print(\"\\n\")\n",
    "        corr_matrix = dfState.corr()\n",
    "        sns.heatmap(corr_matrix, annot=True, cmap='coolwarm')\n",
    "        plt.show()\n",
    "        print(\"\\n\")\n",
    "    #If input = 3 run an ANOVA test of college attendance rate based on US Region\n",
    "    if FirstIn == 3:\n",
    "        StatTests.MeansTest(dfState,'US_Region','College_Attendance_in_%')\n",
    "        print(\"\\n\")\n",
    "    #If input = 4 run two sample T-test of College Attendance rate based of Republican and Democratic states\n",
    "    if FirstIn == 4:\n",
    "        StatTests.MeansTest(dfState,'Republican/Democrat','College_Attendance_in_%')\n",
    "        print(\"\\n\")\n",
    "    #If input = 5 open Regression Menu\n",
    "    if FirstIn == 5:\n",
    "        #initalize regIn input value\n",
    "        regIn = 0\n",
    "        while regIn != 4:\n",
    "            print('Regression Menu:')\n",
    "            print('Select which variable you would like to use in the model')\n",
    "            print('1. GDP & Number of Households')\n",
    "            print('2. Number of Households & Total Land/Water')\n",
    "            print('3. GDP & Total Land/Water')\n",
    "            print('4. Quit')\n",
    "            print('\\n')\n",
    "            #get user input for regIn\n",
    "            regIn = input('please enter a number between 1 and 4:')\n",
    "   #         if regIn != (1,2,3,4):\n",
    "    #            regIn = input('please enter a number between 1 and 4:')\n",
    "            regIn = int(regIn)\n",
    "            #Use prebuilt function to run regression model on chosen variables based on regIn input value\n",
    "            RegBuilder(regIn)\n",
    "            print('\\n')\n",
    "    if FirstIn == 6:\n",
    "        histIn = 0\n",
    "        while histIn != 5:\n",
    "            print(\"Histogram Menu:\")\n",
    "            print(\"1. College Attendance Rate\")\n",
    "            print(\"2. GDP\")\n",
    "            print(\"3. Number of Households\")\n",
    "            print(\"4. Total Land/Water\")\n",
    "            print(\"5. Quit\")\n",
    "            print(\"\\n\")\n",
    "            histIn = input(\"please enter a number between 1 and 5:\")\n",
    "   #         if histIn != (1,2,3,4,5):\n",
    "  #              histIn = input('please enter a number between 1 and 5:')\n",
    "            histIn = int(histIn)\n",
    "            HistBuilder(histIn)\n",
    "            print(\"\\n\")\n",
    "    if FirstIn == 7:\n",
    "        descIn = 0\n",
    "        while descIn != 7:\n",
    "            print(\"Descriptive Statistics Menu:\")\n",
    "            print(\"1. College Attendance in %\")\n",
    "            print(\"2. GDP\")\n",
    "            print(\"3. Number of Households\")\n",
    "            print(\"4. Total Land/Water\")\n",
    "            print(\"5. Republican/Democrat\")\n",
    "            print(\"6. Region\")\n",
    "            print(\"7. Quit\")\n",
    "            print(\"\\n\")\n",
    "            descIn = input(\"please enter a number between 1 and 7:\")\n",
    "   #         if descIn != (1,2,3,4,5,6,7):\n",
    "    #            descIn = input('please enter a number between 1 and 7:')\n",
    "            descIn = int(descIn)\n",
    "            DescStats(descIn)\n",
    "    if FirstIn == 8:\n",
    "        scatIn = 0\n",
    "        while scatIn != 7:\n",
    "            print('Scatterplot Menu:')\n",
    "            print('1. College Attendance and GDP')\n",
    "            print('2. College Attendance and Number of Households')\n",
    "            print('3. College Attendance and Total Land/Water')\n",
    "            print('4. GDP and Number of Households')\n",
    "            print('5. GDP and Total Land/Water')\n",
    "            print('6. Households and Total Land/Water')\n",
    "            print('7. Quit')\n",
    "            print('\\n')\n",
    "            scatIn = input('please enter a number between 1 and 7:')\n",
    "   #         if scatIn != (1,2,3,4,5,6,7):\n",
    "    #            scatIn = input('please enter a number between 1 and 7:')\n",
    "            scatIn = int(scatIn)\n",
    "            ScatterMaker(scatIn)\n",
    "    if FirstIn == 9:\n",
    "        #dfState.to_excel('StateXcel.xlsx')\n",
    "        dfState.to_excel('StateXcel.xlsx', sheet_name='CollegeAttendance', index=False)"
   ]
  },
  {
   "cell_type": "markdown",
   "metadata": {},
   "source": [
    "### Conclusion:\n",
    "\n",
    "This data set was created in the attempt tp predict college attendance rate by state based on a number of quantitative and qualitative variables for each state. Unfortunately this data set does not do a good job of presdicting College Attendance rates. \n",
    "\n",
    "Two interesting things this data set tells us are that College attendance rates are not affected by political leaning and that the western region of the US has lower college attendance rates on average compaired to other Regions. Going into this project, I had assumed that the Western US would have had the highest college attendance rate for all the regions because of states like california, oregeon, and washinton. What the data tells us is that the Western US is pretty similar to the Southern US, but has a wider range than any other Region. It turns out that the North East Region has the best overall college attendance rate. \n",
    "\n",
    "Overall, this data set needs to be improved in order to predict college attendance rates better. Possible variables to add could be: Median household earnings, average household size, and State birthrates just to name a few. With better variables, the model we created will fit the data much better."
   ]
  },
  {
   "cell_type": "code",
   "execution_count": null,
   "metadata": {},
   "outputs": [],
   "source": []
  }
 ],
 "metadata": {
  "kernelspec": {
   "display_name": "Python 3",
   "language": "python",
   "name": "python3"
  },
  "language_info": {
   "codemirror_mode": {
    "name": "ipython",
    "version": 3
   },
   "file_extension": ".py",
   "mimetype": "text/x-python",
   "name": "python",
   "nbconvert_exporter": "python",
   "pygments_lexer": "ipython3",
   "version": "3.8.3"
  }
 },
 "nbformat": 4,
 "nbformat_minor": 4
}
